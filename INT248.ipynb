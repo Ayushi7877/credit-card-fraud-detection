{
  "nbformat": 4,
  "nbformat_minor": 0,
  "metadata": {
    "colab": {
      "name": "INT248.ipynb",
      "provenance": [],
      "collapsed_sections": [],
      "authorship_tag": "ABX9TyOC2liGxzXUcBuX7XbLteaS",
      "include_colab_link": true
    },
    "kernelspec": {
      "name": "python3",
      "display_name": "Python 3"
    },
    "language_info": {
      "name": "python"
    }
  },
  "cells": [
    {
      "cell_type": "markdown",
      "metadata": {
        "id": "view-in-github",
        "colab_type": "text"
      },
      "source": [
        "<a href=\"https://colab.research.google.com/github/Ayushi7877/credit-card-fraud-detection/blob/main/INT248.ipynb\" target=\"_parent\"><img src=\"https://colab.research.google.com/assets/colab-badge.svg\" alt=\"Open In Colab\"/></a>"
      ]
    },
    {
      "cell_type": "code",
      "metadata": {
        "id": "O6mNLFdeIc43"
      },
      "source": [
        "import pandas as pd\n",
        "import numpy as np\n",
        "import tensorflow as tf\n",
        "import os\n",
        "from datetime import datetime \n",
        "from sklearn.metrics import roc_auc_score as auc \n",
        "import seaborn as sns"
      ],
      "execution_count": null,
      "outputs": []
    },
    {
      "cell_type": "code",
      "metadata": {
        "id": "fGq2GdwzI5qO",
        "cellView": "code"
      },
      "source": [
        "\n",
        "import matplotlib.pyplot as plt\n",
        "import matplotlib.gridspec as gridspec\n",
        "%matplotlib inline\n"
      ],
      "execution_count": null,
      "outputs": []
    },
    {
      "cell_type": "markdown",
      "metadata": {
        "id": "LaecAnvlJP1C"
      },
      "source": [
        "LOAD LIBRARIES\n"
      ]
    },
    {
      "cell_type": "markdown",
      "metadata": {
        "id": "sGmonJRrJoQr"
      },
      "source": [
        "## **DATA** **EXPLORATION**"
      ]
    },
    {
      "cell_type": "code",
      "metadata": {
        "id": "jSIeaCF-JWow"
      },
      "source": [
        "df = pd.read_csv('/creditcard.csv.zip')"
      ],
      "execution_count": null,
      "outputs": []
    },
    {
      "cell_type": "code",
      "metadata": {
        "colab": {
          "base_uri": "https://localhost:8080/"
        },
        "id": "em9vBzv5Pc1T",
        "outputId": "ce1a4063-bb1e-404d-87cf-bbd20f784c22"
      },
      "source": [
        "df.shape"
      ],
      "execution_count": null,
      "outputs": [
        {
          "output_type": "execute_result",
          "data": {
            "text/plain": [
              "(284807, 31)"
            ]
          },
          "metadata": {},
          "execution_count": 7
        }
      ]
    },
    {
      "cell_type": "code",
      "metadata": {
        "colab": {
          "base_uri": "https://localhost:8080/"
        },
        "id": "1f4BF48kPeTH",
        "outputId": "d70918ce-1140-40b2-a6b6-10772bb3b06f"
      },
      "source": [
        "print(\"Total time spanning: {:.1f} days\".format(df['Time'].max() / (3600 * 24.0)))\n",
        "print(\"{:.3f} % of all transactions are fraud. \".format(np.sum(df['Class']) / df.shape[0] * 100))"
      ],
      "execution_count": null,
      "outputs": [
        {
          "output_type": "stream",
          "name": "stdout",
          "text": [
            "Total time spanning: 2.0 days\n",
            "0.173 % of all transactions are fraud. \n"
          ]
        }
      ]
    },
    {
      "cell_type": "code",
      "metadata": {
        "colab": {
          "base_uri": "https://localhost:8080/",
          "height": 226
        },
        "id": "lkS46SywQVZ9",
        "outputId": "ecb4223d-6671-45fd-c8dd-e9677235189e"
      },
      "source": [
        "df.head()"
      ],
      "execution_count": null,
      "outputs": [
        {
          "output_type": "execute_result",
          "data": {
            "text/html": [
              "<div>\n",
              "<style scoped>\n",
              "    .dataframe tbody tr th:only-of-type {\n",
              "        vertical-align: middle;\n",
              "    }\n",
              "\n",
              "    .dataframe tbody tr th {\n",
              "        vertical-align: top;\n",
              "    }\n",
              "\n",
              "    .dataframe thead th {\n",
              "        text-align: right;\n",
              "    }\n",
              "</style>\n",
              "<table border=\"1\" class=\"dataframe\">\n",
              "  <thead>\n",
              "    <tr style=\"text-align: right;\">\n",
              "      <th></th>\n",
              "      <th>Time</th>\n",
              "      <th>V1</th>\n",
              "      <th>V2</th>\n",
              "      <th>V3</th>\n",
              "      <th>V4</th>\n",
              "      <th>V5</th>\n",
              "      <th>V6</th>\n",
              "      <th>V7</th>\n",
              "      <th>V8</th>\n",
              "      <th>V9</th>\n",
              "      <th>V10</th>\n",
              "      <th>V11</th>\n",
              "      <th>V12</th>\n",
              "      <th>V13</th>\n",
              "      <th>V14</th>\n",
              "      <th>V15</th>\n",
              "      <th>V16</th>\n",
              "      <th>V17</th>\n",
              "      <th>V18</th>\n",
              "      <th>V19</th>\n",
              "      <th>V20</th>\n",
              "      <th>V21</th>\n",
              "      <th>V22</th>\n",
              "      <th>V23</th>\n",
              "      <th>V24</th>\n",
              "      <th>V25</th>\n",
              "      <th>V26</th>\n",
              "      <th>V27</th>\n",
              "      <th>V28</th>\n",
              "      <th>Amount</th>\n",
              "      <th>Class</th>\n",
              "    </tr>\n",
              "  </thead>\n",
              "  <tbody>\n",
              "    <tr>\n",
              "      <th>0</th>\n",
              "      <td>0.0</td>\n",
              "      <td>-1.359807</td>\n",
              "      <td>-0.072781</td>\n",
              "      <td>2.536347</td>\n",
              "      <td>1.378155</td>\n",
              "      <td>-0.338321</td>\n",
              "      <td>0.462388</td>\n",
              "      <td>0.239599</td>\n",
              "      <td>0.098698</td>\n",
              "      <td>0.363787</td>\n",
              "      <td>0.090794</td>\n",
              "      <td>-0.551600</td>\n",
              "      <td>-0.617801</td>\n",
              "      <td>-0.991390</td>\n",
              "      <td>-0.311169</td>\n",
              "      <td>1.468177</td>\n",
              "      <td>-0.470401</td>\n",
              "      <td>0.207971</td>\n",
              "      <td>0.025791</td>\n",
              "      <td>0.403993</td>\n",
              "      <td>0.251412</td>\n",
              "      <td>-0.018307</td>\n",
              "      <td>0.277838</td>\n",
              "      <td>-0.110474</td>\n",
              "      <td>0.066928</td>\n",
              "      <td>0.128539</td>\n",
              "      <td>-0.189115</td>\n",
              "      <td>0.133558</td>\n",
              "      <td>-0.021053</td>\n",
              "      <td>149.62</td>\n",
              "      <td>0</td>\n",
              "    </tr>\n",
              "    <tr>\n",
              "      <th>1</th>\n",
              "      <td>0.0</td>\n",
              "      <td>1.191857</td>\n",
              "      <td>0.266151</td>\n",
              "      <td>0.166480</td>\n",
              "      <td>0.448154</td>\n",
              "      <td>0.060018</td>\n",
              "      <td>-0.082361</td>\n",
              "      <td>-0.078803</td>\n",
              "      <td>0.085102</td>\n",
              "      <td>-0.255425</td>\n",
              "      <td>-0.166974</td>\n",
              "      <td>1.612727</td>\n",
              "      <td>1.065235</td>\n",
              "      <td>0.489095</td>\n",
              "      <td>-0.143772</td>\n",
              "      <td>0.635558</td>\n",
              "      <td>0.463917</td>\n",
              "      <td>-0.114805</td>\n",
              "      <td>-0.183361</td>\n",
              "      <td>-0.145783</td>\n",
              "      <td>-0.069083</td>\n",
              "      <td>-0.225775</td>\n",
              "      <td>-0.638672</td>\n",
              "      <td>0.101288</td>\n",
              "      <td>-0.339846</td>\n",
              "      <td>0.167170</td>\n",
              "      <td>0.125895</td>\n",
              "      <td>-0.008983</td>\n",
              "      <td>0.014724</td>\n",
              "      <td>2.69</td>\n",
              "      <td>0</td>\n",
              "    </tr>\n",
              "    <tr>\n",
              "      <th>2</th>\n",
              "      <td>1.0</td>\n",
              "      <td>-1.358354</td>\n",
              "      <td>-1.340163</td>\n",
              "      <td>1.773209</td>\n",
              "      <td>0.379780</td>\n",
              "      <td>-0.503198</td>\n",
              "      <td>1.800499</td>\n",
              "      <td>0.791461</td>\n",
              "      <td>0.247676</td>\n",
              "      <td>-1.514654</td>\n",
              "      <td>0.207643</td>\n",
              "      <td>0.624501</td>\n",
              "      <td>0.066084</td>\n",
              "      <td>0.717293</td>\n",
              "      <td>-0.165946</td>\n",
              "      <td>2.345865</td>\n",
              "      <td>-2.890083</td>\n",
              "      <td>1.109969</td>\n",
              "      <td>-0.121359</td>\n",
              "      <td>-2.261857</td>\n",
              "      <td>0.524980</td>\n",
              "      <td>0.247998</td>\n",
              "      <td>0.771679</td>\n",
              "      <td>0.909412</td>\n",
              "      <td>-0.689281</td>\n",
              "      <td>-0.327642</td>\n",
              "      <td>-0.139097</td>\n",
              "      <td>-0.055353</td>\n",
              "      <td>-0.059752</td>\n",
              "      <td>378.66</td>\n",
              "      <td>0</td>\n",
              "    </tr>\n",
              "    <tr>\n",
              "      <th>3</th>\n",
              "      <td>1.0</td>\n",
              "      <td>-0.966272</td>\n",
              "      <td>-0.185226</td>\n",
              "      <td>1.792993</td>\n",
              "      <td>-0.863291</td>\n",
              "      <td>-0.010309</td>\n",
              "      <td>1.247203</td>\n",
              "      <td>0.237609</td>\n",
              "      <td>0.377436</td>\n",
              "      <td>-1.387024</td>\n",
              "      <td>-0.054952</td>\n",
              "      <td>-0.226487</td>\n",
              "      <td>0.178228</td>\n",
              "      <td>0.507757</td>\n",
              "      <td>-0.287924</td>\n",
              "      <td>-0.631418</td>\n",
              "      <td>-1.059647</td>\n",
              "      <td>-0.684093</td>\n",
              "      <td>1.965775</td>\n",
              "      <td>-1.232622</td>\n",
              "      <td>-0.208038</td>\n",
              "      <td>-0.108300</td>\n",
              "      <td>0.005274</td>\n",
              "      <td>-0.190321</td>\n",
              "      <td>-1.175575</td>\n",
              "      <td>0.647376</td>\n",
              "      <td>-0.221929</td>\n",
              "      <td>0.062723</td>\n",
              "      <td>0.061458</td>\n",
              "      <td>123.50</td>\n",
              "      <td>0</td>\n",
              "    </tr>\n",
              "    <tr>\n",
              "      <th>4</th>\n",
              "      <td>2.0</td>\n",
              "      <td>-1.158233</td>\n",
              "      <td>0.877737</td>\n",
              "      <td>1.548718</td>\n",
              "      <td>0.403034</td>\n",
              "      <td>-0.407193</td>\n",
              "      <td>0.095921</td>\n",
              "      <td>0.592941</td>\n",
              "      <td>-0.270533</td>\n",
              "      <td>0.817739</td>\n",
              "      <td>0.753074</td>\n",
              "      <td>-0.822843</td>\n",
              "      <td>0.538196</td>\n",
              "      <td>1.345852</td>\n",
              "      <td>-1.119670</td>\n",
              "      <td>0.175121</td>\n",
              "      <td>-0.451449</td>\n",
              "      <td>-0.237033</td>\n",
              "      <td>-0.038195</td>\n",
              "      <td>0.803487</td>\n",
              "      <td>0.408542</td>\n",
              "      <td>-0.009431</td>\n",
              "      <td>0.798278</td>\n",
              "      <td>-0.137458</td>\n",
              "      <td>0.141267</td>\n",
              "      <td>-0.206010</td>\n",
              "      <td>0.502292</td>\n",
              "      <td>0.219422</td>\n",
              "      <td>0.215153</td>\n",
              "      <td>69.99</td>\n",
              "      <td>0</td>\n",
              "    </tr>\n",
              "  </tbody>\n",
              "</table>\n",
              "</div>"
            ],
            "text/plain": [
              "   Time        V1        V2        V3  ...       V27       V28  Amount  Class\n",
              "0   0.0 -1.359807 -0.072781  2.536347  ...  0.133558 -0.021053  149.62      0\n",
              "1   0.0  1.191857  0.266151  0.166480  ... -0.008983  0.014724    2.69      0\n",
              "2   1.0 -1.358354 -1.340163  1.773209  ... -0.055353 -0.059752  378.66      0\n",
              "3   1.0 -0.966272 -0.185226  1.792993  ...  0.062723  0.061458  123.50      0\n",
              "4   2.0 -1.158233  0.877737  1.548718  ...  0.219422  0.215153   69.99      0\n",
              "\n",
              "[5 rows x 31 columns]"
            ]
          },
          "metadata": {},
          "execution_count": 11
        }
      ]
    },
    {
      "cell_type": "code",
      "metadata": {
        "colab": {
          "base_uri": "https://localhost:8080/"
        },
        "id": "BElJUDtjQcVs",
        "outputId": "6eb23627-04e7-4c0f-86a7-2473447ff8ce"
      },
      "source": [
        "df.columns"
      ],
      "execution_count": null,
      "outputs": [
        {
          "output_type": "execute_result",
          "data": {
            "text/plain": [
              "Index(['Time', 'V1', 'V2', 'V3', 'V4', 'V5', 'V6', 'V7', 'V8', 'V9', 'V10',\n",
              "       'V11', 'V12', 'V13', 'V14', 'V15', 'V16', 'V17', 'V18', 'V19', 'V20',\n",
              "       'V21', 'V22', 'V23', 'V24', 'V25', 'V26', 'V27', 'V28', 'Amount',\n",
              "       'Class'],\n",
              "      dtype='object')"
            ]
          },
          "metadata": {},
          "execution_count": 13
        }
      ]
    },
    {
      "cell_type": "code",
      "metadata": {
        "colab": {
          "base_uri": "https://localhost:8080/"
        },
        "id": "5b46UdHBQg44",
        "outputId": "b24b1f23-a884-4dc3-9b12-53426c38cc89"
      },
      "source": [
        "df.dtypes"
      ],
      "execution_count": null,
      "outputs": [
        {
          "output_type": "execute_result",
          "data": {
            "text/plain": [
              "Time      float64\n",
              "V1        float64\n",
              "V2        float64\n",
              "V3        float64\n",
              "V4        float64\n",
              "V5        float64\n",
              "V6        float64\n",
              "V7        float64\n",
              "V8        float64\n",
              "V9        float64\n",
              "V10       float64\n",
              "V11       float64\n",
              "V12       float64\n",
              "V13       float64\n",
              "V14       float64\n",
              "V15       float64\n",
              "V16       float64\n",
              "V17       float64\n",
              "V18       float64\n",
              "V19       float64\n",
              "V20       float64\n",
              "V21       float64\n",
              "V22       float64\n",
              "V23       float64\n",
              "V24       float64\n",
              "V25       float64\n",
              "V26       float64\n",
              "V27       float64\n",
              "V28       float64\n",
              "Amount    float64\n",
              "Class       int64\n",
              "dtype: object"
            ]
          },
          "metadata": {},
          "execution_count": 15
        }
      ]
    },
    {
      "cell_type": "code",
      "metadata": {
        "colab": {
          "base_uri": "https://localhost:8080/",
          "height": 1000
        },
        "id": "2Ah_CaYJQkwy",
        "outputId": "7f5e0d2d-b725-43fa-b982-2c4816b2a409"
      },
      "source": [
        "plt.figure(figsize=(12,5*4))\n",
        "gs = gridspec.GridSpec(5, 1)\n",
        "for i, cn in enumerate(df.columns[:5]):\n",
        "    ax = plt.subplot(gs[i])\n",
        "    sns.distplot(df[cn][df.Class == 1], bins=50)\n",
        "    sns.distplot(df[cn][df.Class == 0], bins=50)\n",
        "    ax.set_xlabel('')\n",
        "    ax.set_title('histogram of feature: ' + str(cn))\n",
        "plt.show()"
      ],
      "execution_count": null,
      "outputs": [
        {
          "output_type": "stream",
          "name": "stderr",
          "text": [
            "/usr/local/lib/python3.7/dist-packages/seaborn/distributions.py:2619: FutureWarning: `distplot` is a deprecated function and will be removed in a future version. Please adapt your code to use either `displot` (a figure-level function with similar flexibility) or `histplot` (an axes-level function for histograms).\n",
            "  warnings.warn(msg, FutureWarning)\n",
            "/usr/local/lib/python3.7/dist-packages/seaborn/distributions.py:2619: FutureWarning: `distplot` is a deprecated function and will be removed in a future version. Please adapt your code to use either `displot` (a figure-level function with similar flexibility) or `histplot` (an axes-level function for histograms).\n",
            "  warnings.warn(msg, FutureWarning)\n",
            "/usr/local/lib/python3.7/dist-packages/seaborn/distributions.py:2619: FutureWarning: `distplot` is a deprecated function and will be removed in a future version. Please adapt your code to use either `displot` (a figure-level function with similar flexibility) or `histplot` (an axes-level function for histograms).\n",
            "  warnings.warn(msg, FutureWarning)\n",
            "/usr/local/lib/python3.7/dist-packages/seaborn/distributions.py:2619: FutureWarning: `distplot` is a deprecated function and will be removed in a future version. Please adapt your code to use either `displot` (a figure-level function with similar flexibility) or `histplot` (an axes-level function for histograms).\n",
            "  warnings.warn(msg, FutureWarning)\n",
            "/usr/local/lib/python3.7/dist-packages/seaborn/distributions.py:2619: FutureWarning: `distplot` is a deprecated function and will be removed in a future version. Please adapt your code to use either `displot` (a figure-level function with similar flexibility) or `histplot` (an axes-level function for histograms).\n",
            "  warnings.warn(msg, FutureWarning)\n",
            "/usr/local/lib/python3.7/dist-packages/seaborn/distributions.py:2619: FutureWarning: `distplot` is a deprecated function and will be removed in a future version. Please adapt your code to use either `displot` (a figure-level function with similar flexibility) or `histplot` (an axes-level function for histograms).\n",
            "  warnings.warn(msg, FutureWarning)\n",
            "/usr/local/lib/python3.7/dist-packages/seaborn/distributions.py:2619: FutureWarning: `distplot` is a deprecated function and will be removed in a future version. Please adapt your code to use either `displot` (a figure-level function with similar flexibility) or `histplot` (an axes-level function for histograms).\n",
            "  warnings.warn(msg, FutureWarning)\n",
            "/usr/local/lib/python3.7/dist-packages/seaborn/distributions.py:2619: FutureWarning: `distplot` is a deprecated function and will be removed in a future version. Please adapt your code to use either `displot` (a figure-level function with similar flexibility) or `histplot` (an axes-level function for histograms).\n",
            "  warnings.warn(msg, FutureWarning)\n",
            "/usr/local/lib/python3.7/dist-packages/seaborn/distributions.py:2619: FutureWarning: `distplot` is a deprecated function and will be removed in a future version. Please adapt your code to use either `displot` (a figure-level function with similar flexibility) or `histplot` (an axes-level function for histograms).\n",
            "  warnings.warn(msg, FutureWarning)\n",
            "/usr/local/lib/python3.7/dist-packages/seaborn/distributions.py:2619: FutureWarning: `distplot` is a deprecated function and will be removed in a future version. Please adapt your code to use either `displot` (a figure-level function with similar flexibility) or `histplot` (an axes-level function for histograms).\n",
            "  warnings.warn(msg, FutureWarning)\n"
          ]
        },
        {
          "output_type": "display_data",
          "data": {
            "image/png": "[encoded data removed]",
            "text/plain": [
              "<Figure size 864x1440 with 5 Axes>"
            ]
          },
          "metadata": {
            "needs_background": "light"
          }
        }
      ]
    },
    {
      "cell_type": "markdown",
      "metadata": {
        "id": "wEpwP3geQtgq"
      },
      "source": [
        "## Train and test split on time series, using first 75% as training/val, and last 25% as test"
      ]
    },
    {
      "cell_type": "code",
      "metadata": {
        "id": "QaYVOqiTRQB1"
      },
      "source": [
        "TEST_RATIO = 0.25\n",
        "df.sort_values('Time', inplace = True)\n",
        "TRA_INDEX = int((1-TEST_RATIO) * df.shape[0])\n",
        "train_x = df.iloc[:TRA_INDEX, 1:-2].values\n",
        "train_y = df.iloc[:TRA_INDEX, -1].values\n",
        "\n",
        "test_x = df.iloc[TRA_INDEX:, 1:-2].values\n",
        "test_y = df.iloc[TRA_INDEX:, -1].values"
      ],
      "execution_count": null,
      "outputs": []
    },
    {
      "cell_type": "code",
      "metadata": {
        "colab": {
          "base_uri": "https://localhost:8080/"
        },
        "id": "OXxmXh4SRVsi",
        "outputId": "6c5de33d-21f3-4a35-9f3a-909a9c86a6d4"
      },
      "source": [
        "print(\"Total train examples: {}, total fraud cases: {}, equal to {:.5f} of total cases. \".format(train_x.shape[0], np.sum(train_y), np.sum(train_y)/train_x.shape[0]))"
      ],
      "execution_count": null,
      "outputs": [
        {
          "output_type": "stream",
          "name": "stdout",
          "text": [
            "Total train examples: 213605, total fraud cases: 398, equal to 0.00186 of total cases. \n"
          ]
        }
      ]
    },
    {
      "cell_type": "code",
      "metadata": {
        "colab": {
          "base_uri": "https://localhost:8080/"
        },
        "id": "aTOU5OJ9RfB-",
        "outputId": "d2ddf2cb-0612-40f1-b91c-187bd4d2b48e"
      },
      "source": [
        "print(\"Total test examples: {}, total fraud cases: {}, equal to {:.5f} of total cases. \".format(test_x.shape[0], np.sum(test_y), np.sum(test_y)/test_y.shape[0]))"
      ],
      "execution_count": null,
      "outputs": [
        {
          "output_type": "stream",
          "name": "stdout",
          "text": [
            "Total test examples: 71202, total fraud cases: 94, equal to 0.00132 of total cases. \n"
          ]
        }
      ]
    },
    {
      "cell_type": "markdown",
      "metadata": {
        "id": "t3xx06CzRq-O"
      },
      "source": [
        "## Feature Normalization - min max score (used for sigmoid activation)"
      ]
    },
    {
      "cell_type": "code",
      "metadata": {
        "colab": {
          "base_uri": "https://localhost:8080/",
          "height": 70
        },
        "id": "AmvTQT3RRx1I",
        "outputId": "d169a66c-c05b-4ecd-ad27-f04545173050"
      },
      "source": [
        "'''cols_max = []\n",
        "cols_min = []\n",
        "for c in range(train_x.shape[1]):\n",
        "    cols_max.append(train_x[:,c].max())\n",
        "    cols_min.append(train_x[:,c].min())\n",
        "    train_x[:, c] = (train_x[:, c] - cols_min[-1]) / (cols_max[-1] - cols_min[-1])\n",
        "    test_x[:, c] =  (test_x[:, c] - cols_min[-1]) / (cols_max[-1] - cols_min[-1])'''"
      ],
      "execution_count": null,
      "outputs": [
        {
          "output_type": "execute_result",
          "data": {
            "application/vnd.google.colaboratory.intrinsic+json": {
              "type": "string"
            },
            "text/plain": [
              "'cols_max = []\\ncols_min = []\\nfor c in range(train_x.shape[1]):\\n    cols_max.append(train_x[:,c].max())\\n    cols_min.append(train_x[:,c].min())\\n    train_x[:, c] = (train_x[:, c] - cols_min[-1]) / (cols_max[-1] - cols_min[-1])\\n    test_x[:, c] =  (test_x[:, c] - cols_min[-1]) / (cols_max[-1] - cols_min[-1])'"
            ]
          },
          "metadata": {},
          "execution_count": 25
        }
      ]
    },
    {
      "cell_type": "markdown",
      "metadata": {
        "id": "J4BdQf4_R247"
      },
      "source": [
        "## Feature Normalization 2 - z score (for tanh activation)"
      ]
    },
    {
      "cell_type": "code",
      "metadata": {
        "id": "irGdvti6R-H8"
      },
      "source": [
        "cols_mean = []\n",
        "cols_std = []\n",
        "for c in range(train_x.shape[1]):\n",
        "    cols_mean.append(train_x[:,c].mean())\n",
        "    cols_std.append(train_x[:,c].std())\n",
        "    train_x[:, c] = (train_x[:, c] - cols_mean[-1]) / cols_std[-1]\n",
        "    test_x[:, c] =  (test_x[:, c] - cols_mean[-1]) / cols_std[-1]"
      ],
      "execution_count": null,
      "outputs": []
    },
    {
      "cell_type": "markdown",
      "metadata": {
        "id": "2tR74y2TSEjF"
      },
      "source": [
        "### Modelling and results"
      ]
    },
    {
      "cell_type": "markdown",
      "metadata": {
        "id": "Mv7TAlhtSKMO"
      },
      "source": [
        "## **1. Auto-encoder as unsupervised learning**"
      ]
    },
    {
      "cell_type": "markdown",
      "metadata": {
        "id": "gJa0xPV6SSoO"
      },
      "source": [
        "Parameters"
      ]
    },
    {
      "cell_type": "code",
      "metadata": {
        "id": "uOJTAuadSbzs"
      },
      "source": [
        "# Parameters\n",
        "learning_rate = 0.001\n",
        "training_epochs = 10\n",
        "batch_size = 256\n",
        "display_step = 1\n",
        "\n",
        "# Network Parameters\n",
        "n_hidden_1 = 15 # 1st layer num features\n",
        "#n_hidden_2 = 15 # 2nd layer num features\n",
        "n_input = train_x.shape[1] # MNIST data input (img shape: 28*28)\n",
        "data_dir = '.'"
      ],
      "execution_count": null,
      "outputs": []
    },
    {
      "cell_type": "markdown",
      "metadata": {
        "id": "JxCOwFIeShHV"
      },
      "source": [
        "## Train and val the model - (1 hidden layer turned out to be enough)"
      ]
    },
    {
      "cell_type": "code",
      "metadata": {
        "colab": {
          "base_uri": "https://localhost:8080/"
        },
        "id": "1WAaC0kvSqCT",
        "outputId": "71779625-5b42-4c25-a5ac-09db90d25e8f"
      },
      "source": [
        "import tensorflow.compat.v1 as tf\n",
        "tf.disable_v2_behavior()\n",
        "X = tf.placeholder(\"float\", [None, n_input])\n",
        "\n",
        "\n",
        "weights = {\n",
        "    'encoder_h1': tf.Variable(tf.random_normal([n_input, n_hidden_1])),\n",
        "    #'encoder_h2': tf.Variable(tf.random_normal([n_hidden_1, n_hidden_2])),\n",
        "    'decoder_h1': tf.Variable(tf.random_normal([n_hidden_1, n_input])),\n",
        "    #'decoder_h2': tf.Variable(tf.random_normal([n_hidden_1, n_input])),\n",
        "}\n",
        "biases = {\n",
        "    'encoder_b1': tf.Variable(tf.random_normal([n_hidden_1])),\n",
        "    #'encoder_b2': tf.Variable(tf.random_normal([n_hidden_2])),\n",
        "    'decoder_b1': tf.Variable(tf.random_normal([n_input])),\n",
        "    #'decoder_b2': tf.Variable(tf.random_normal([n_input])),\n",
        "}\n",
        "\n",
        "\n",
        "# Building the encoder\n",
        "def encoder(x):\n",
        "    # Encoder Hidden layer with sigmoid activation #1\n",
        "    layer_1 = tf.nn.tanh(tf.add(tf.matmul(x, weights['encoder_h1']),\n",
        "                                   biases['encoder_b1']))\n",
        "    # Decoder Hidden layer with sigmoid activation #2\n",
        "    #layer_2 = tf.nn.tanh(tf.add(tf.matmul(layer_1, weights['encoder_h2']),\n",
        "                                   #biases['encoder_b2']))\n",
        "    return layer_1\n",
        "\n",
        "\n",
        "# Building the decoder\n",
        "def decoder(x):\n",
        "    # Encoder Hidden layer with sigmoid activation #1\n",
        "    layer_1 = tf.nn.tanh(tf.add(tf.matmul(x, weights['decoder_h1']),\n",
        "                                   biases['decoder_b1']))\n",
        "    # Decoder Hidden layer with sigmoid activation #2\n",
        "    #layer_2 = tf.nn.tanh(tf.add(tf.matmul(layer_1, weights['decoder_h2']),\n",
        "                                  # biases['decoder_b2']))\n",
        "    return layer_1\n",
        "\n",
        "# Construct model\n",
        "encoder_op = encoder(X)\n",
        "decoder_op = decoder(encoder_op)\n",
        "\n",
        "# Prediction\n",
        "y_pred = decoder_op\n",
        "# Targets (Labels) are the input data.\n",
        "y_true = X\n",
        "\n",
        "# Define batch mse\n",
        "batch_mse = tf.reduce_mean(tf.pow(y_true - y_pred, 2), 1)\n",
        "\n",
        "# Define loss and optimizer, minimize the squared error\n",
        "cost = tf.reduce_mean(tf.pow(y_true - y_pred, 2))\n",
        "optimizer = tf.train.RMSPropOptimizer(learning_rate).minimize(cost)\n",
        "\n",
        "# TRAIN StARTS\n",
        "save_model = os.path.join(data_dir, 'temp_saved_model_1layer.ckpt')\n",
        "saver = tf.train.Saver()\n",
        "\n",
        "# Initializing the variables\n",
        "init = tf.global_variables_initializer()\n",
        "\n",
        "with tf.Session() as sess:\n",
        "    now = datetime.now()\n",
        "    sess.run(init)\n",
        "    total_batch = int(train_x.shape[0]/batch_size)\n",
        "    # Training cycle\n",
        "    for epoch in range(training_epochs):\n",
        "        # Loop over all batches\n",
        "        for i in range(total_batch):\n",
        "            batch_idx = np.random.choice(train_x.shape[0], batch_size)\n",
        "            batch_xs = train_x[batch_idx]\n",
        "            # Run optimization op (backprop) and cost op (to get loss value)\n",
        "            _, c = sess.run([optimizer, cost], feed_dict={X: batch_xs})\n",
        "            \n",
        "        # Display logs per epoch step\n",
        "        if epoch % display_step == 0:\n",
        "            train_batch_mse = sess.run(batch_mse, feed_dict={X: train_x})\n",
        "            print(\"Epoch:\", '%04d' % (epoch+1),\n",
        "                  \"cost=\", \"{:.9f}\".format(c), \n",
        "                  \"Train auc=\", \"{:.6f}\".format(auc(train_y, train_batch_mse)), \n",
        "                  \"Time elapsed=\", \"{}\".format(datetime.now() - now))\n",
        "\n",
        "    print(\"Optimization Finished!\")\n",
        "    \n",
        "    save_path = saver.save(sess, save_model)\n",
        "    print(\"Model saved in file: %s\" % save_path)\n",
        "    "
      ],
      "execution_count": null,
      "outputs": [
        {
          "output_type": "stream",
          "name": "stdout",
          "text": [
            "WARNING:tensorflow:From /usr/local/lib/python3.7/dist-packages/tensorflow/python/compat/v2_compat.py:111: disable_resource_variables (from tensorflow.python.ops.variable_scope) is deprecated and will be removed in a future version.\n",
            "Instructions for updating:\n",
            "non-resource variables are not supported in the long term\n",
            "WARNING:tensorflow:From /usr/local/lib/python3.7/dist-packages/tensorflow/python/training/rmsprop.py:192: calling Ones.__init__ (from tensorflow.python.ops.init_ops) with dtype is deprecated and will be removed in a future version.\n",
            "Instructions for updating:\n",
            "Call initializer instance with the dtype argument instead of passing it to the constructor\n",
            "Epoch: 0001 cost= 1.535036325 Train auc= 0.953222 Time elapsed= 0:00:01.589273\n",
            "Epoch: 0002 cost= 1.615391850 Train auc= 0.956277 Time elapsed= 0:00:02.598372\n",
            "Epoch: 0003 cost= 0.625548244 Train auc= 0.958981 Time elapsed= 0:00:03.623559\n",
            "Epoch: 0004 cost= 0.868392646 Train auc= 0.960852 Time elapsed= 0:00:04.636513\n",
            "Epoch: 0005 cost= 0.736996770 Train auc= 0.958983 Time elapsed= 0:00:05.632334\n",
            "Epoch: 0006 cost= 0.952557147 Train auc= 0.958237 Time elapsed= 0:00:06.641498\n",
            "Epoch: 0007 cost= 0.432743043 Train auc= 0.957786 Time elapsed= 0:00:07.635274\n",
            "Epoch: 0008 cost= 0.300035298 Train auc= 0.957246 Time elapsed= 0:00:08.641405\n",
            "Epoch: 0009 cost= 0.550009131 Train auc= 0.956619 Time elapsed= 0:00:09.645271\n",
            "Epoch: 0010 cost= 0.386720359 Train auc= 0.956637 Time elapsed= 0:00:10.655816\n",
            "Optimization Finished!\n",
            "Model saved in file: ./temp_saved_model_1layer.ckpt\n"
          ]
        }
      ]
    },
    {
      "cell_type": "markdown",
      "metadata": {
        "id": "-GCzm05bSyMU"
      },
      "source": [
        "### Test model - on later 25% test data"
      ]
    },
    {
      "cell_type": "code",
      "metadata": {
        "colab": {
          "base_uri": "https://localhost:8080/"
        },
        "id": "n2k1YKyES2gt",
        "outputId": "a49ac0da-2500-4474-aa30-2ced0d03c6c6"
      },
      "source": [
        "save_model = os.path.join(data_dir, 'temp_saved_model_1layer.ckpt')\n",
        "saver = tf.train.Saver()\n",
        "\n",
        "# Initializing the variables\n",
        "init = tf.global_variables_initializer()\n",
        "\n",
        "with tf.Session() as sess:\n",
        "    now = datetime.now()\n",
        "    \n",
        "    saver.restore(sess, save_model)\n",
        "    \n",
        "    test_batch_mse = sess.run(batch_mse, feed_dict={X: test_x})\n",
        "    \n",
        "    print(\"Test auc score: {:.6f}\".format(auc(test_y, test_batch_mse)))\n",
        "    "
      ],
      "execution_count": null,
      "outputs": [
        {
          "output_type": "stream",
          "name": "stdout",
          "text": [
            "INFO:tensorflow:Restoring parameters from ./temp_saved_model_1layer.ckpt\n",
            "Test auc score: 0.944598\n"
          ]
        }
      ]
    },
    {
      "cell_type": "markdown",
      "metadata": {
        "id": "o_hRLVu8S8YC"
      },
      "source": [
        "## Visualize the prediction"
      ]
    },
    {
      "cell_type": "markdown",
      "metadata": {
        "id": "nHEP7uyrTBAG"
      },
      "source": [
        "## 1. Display fraud score (mse) distribution for non-fraud cases"
      ]
    },
    {
      "cell_type": "code",
      "metadata": {
        "colab": {
          "base_uri": "https://localhost:8080/",
          "height": 295
        },
        "id": "fdxhl4nETGyi",
        "outputId": "3375c89d-47b7-4a2e-836e-3b1073f01ea4"
      },
      "source": [
        "plt.hist(test_batch_mse[test_y == 0.0], bins = 100)\n",
        "plt.title(\"fraud score (mse) distribution of non-fraud cases.\")\n",
        "plt.xlabel(\"fraud score (mse)\")\n",
        "plt.show()"
      ],
      "execution_count": null,
      "outputs": [
        {
          "output_type": "display_data",
          "data": {
            "image/png": "[encoded data removed]",
            "text/plain": [
              "<Figure size 432x288 with 1 Axes>"
            ]
          },
          "metadata": {
            "needs_background": "light"
          }
        }
      ]
    },
    {
      "cell_type": "markdown",
      "metadata": {
        "id": "qOZ5_NPsTKy6"
      },
      "source": [
        "## Zoom into (0, 20) range"
      ]
    },
    {
      "cell_type": "code",
      "metadata": {
        "colab": {
          "base_uri": "https://localhost:8080/",
          "height": 295
        },
        "id": "Q70MEelITQjk",
        "outputId": "9e558616-e061-4e9c-a63b-a8100da6457f"
      },
      "source": [
        "plt.hist(test_batch_mse[(test_y == 0.0) & (test_batch_mse < 20)], bins = 100)\n",
        "plt.title(\"fraud score (mse) distribution for non-fraud cases.\")\n",
        "plt.xlabel(\"fraud score (mse)\")\n",
        "plt.show()"
      ],
      "execution_count": null,
      "outputs": [
        {
          "output_type": "display_data",
          "data": {
            "image/png": "[encoded data removed]",
            "text/plain": [
              "<Figure size 432x288 with 1 Axes>"
            ]
          },
          "metadata": {
            "needs_background": "light"
          }
        }
      ]
    },
    {
      "cell_type": "markdown",
      "metadata": {
        "id": "Y3DGr5NPTZqV"
      },
      "source": [
        "2. Display fraud score (mse) distribution for fraud cases"
      ]
    },
    {
      "cell_type": "code",
      "metadata": {
        "colab": {
          "base_uri": "https://localhost:8080/",
          "height": 295
        },
        "id": "Jz2YR8KiTdKC",
        "outputId": "dda00cd0-c14e-4741-b515-893f0aa28056"
      },
      "source": [
        "plt.hist(test_batch_mse[test_y == 1.0], bins = 100)\n",
        "plt.title(\"fraud score (mse) distribution for fraud cases.\")\n",
        "plt.xlabel(\"fraud score (mse)\")\n",
        "plt.show()"
      ],
      "execution_count": null,
      "outputs": [
        {
          "output_type": "display_data",
          "data": {
            "image/png": "[encoded data removed]",
            "text/plain": [
              "<Figure size 432x288 with 1 Axes>"
            ]
          },
          "metadata": {
            "needs_background": "light"
          }
        }
      ]
    },
    {
      "cell_type": "code",
      "metadata": {
        "id": "1qR3hY6GTVPJ",
        "colab": {
          "base_uri": "https://localhost:8080/"
        },
        "outputId": "fdbc6d8d-ff28-4332-ab75-342ec02032f4"
      },
      "source": [
        "\n",
        "THRE_TEST = 7\n",
        "print(\"Let's, for example, use 7 as our detection threshold: \\n\\\n",
        "Number of detected cases above treshold: {}, \\n\\\n",
        "Number of pos cases only above threshold: {}, \\n\\\n",
        "The percentage of accuracy above treshold (Precision): {:0.2f}%. \\n\\\n",
        "Compared to the average percentage of fraud in test set: 0.132%\".format( \\\n",
        "np.sum(test_batch_mse > THRE_TEST), \\\n",
        "np.sum(test_y[test_batch_mse > THRE_TEST]), \\\n",
        "np.sum(test_y[test_batch_mse > THRE_TEST]) / np.sum(test_batch_mse > THRE_TEST) * 100))\n",
        "      "
      ],
      "execution_count": null,
      "outputs": [
        {
          "output_type": "stream",
          "name": "stdout",
          "text": [
            "Let's, for example, use 7 as our detection threshold: \n",
            "Number of detected cases above treshold: 501, \n",
            "Number of pos cases only above threshold: 31, \n",
            "The percentage of accuracy above treshold (Precision): 6.19%. \n",
            "Compared to the average percentage of fraud in test set: 0.132%\n"
          ]
        }
      ]
    },
    {
      "cell_type": "markdown",
      "metadata": {
        "id": "em52GEozUXrg"
      },
      "source": [
        "## Observation: Our precision increased by a factor of 60 from 0.132% to 7.86%; However, the detection precision is still low (below 8%), but this is mainly due to the overall percentage of fraud cases is really too low."
      ]
    },
    {
      "cell_type": "markdown",
      "metadata": {
        "id": "MJVI1KGwUf_4"
      },
      "source": [
        "# 2. Build a binary classifier that predicts fraud, using the auto-encoder embedding layers as model inputs."
      ]
    },
    {
      "cell_type": "markdown",
      "metadata": {
        "id": "Qy0trA2cUp5y"
      },
      "source": [
        "### 1) Get auto-encoder embedding (the encoder_op tensor) for both train and test data"
      ]
    },
    {
      "cell_type": "code",
      "metadata": {
        "colab": {
          "base_uri": "https://localhost:8080/"
        },
        "id": "ndjltBdlVesw",
        "outputId": "7db50447-b58c-4df9-8ee5-16674f03e40d"
      },
      "source": [
        "save_model = os.path.join(data_dir, 'temp_saved_model_1layer.ckpt')\n",
        "saver = tf.train.Saver()\n",
        "\n",
        "# Initializing the variables\n",
        "init = tf.global_variables_initializer()\n",
        "\n",
        "with tf.Session() as sess:\n",
        "    now = datetime.now()\n",
        "    saver.restore(sess, save_model)\n",
        "    \n",
        "    test_encoding = sess.run(encoder_op, feed_dict={X: test_x})\n",
        "    train_encoding = sess.run(encoder_op, feed_dict={X: train_x})\n",
        "    \n",
        "    print(\"Dim for test_encoding and train_encoding are: \\n\", test_encoding.shape, '\\n', train_encoding.shape)"
      ],
      "execution_count": 35,
      "outputs": [
        {
          "output_type": "stream",
          "name": "stdout",
          "text": [
            "INFO:tensorflow:Restoring parameters from ./temp_saved_model_1layer.ckpt\n",
            "Dim for test_encoding and train_encoding are: \n",
            " (71202, 15) \n",
            " (213605, 15)\n"
          ]
        }
      ]
    },
    {
      "cell_type": "markdown",
      "metadata": {
        "id": "-edyP6KhVpc-"
      },
      "source": [
        "# 2) Build the graph for FC layers (best hidden size based on validation is found to be 4)"
      ]
    },
    {
      "cell_type": "code",
      "metadata": {
        "colab": {
          "base_uri": "https://localhost:8080/"
        },
        "id": "F9tIrq5mVy7C",
        "outputId": "d3409d7d-0143-44e4-ddd4-d7be5fc4dbec"
      },
      "source": [
        "#n_input = test_encoding.shape[1]\n",
        "n_input = test_encoding.shape[1]\n",
        "\n",
        "hidden_size = 4\n",
        "output_size = 2\n",
        "\n",
        "X = tf.placeholder(tf.float32, [None, n_input], name='input_x')\n",
        "y_ = tf.placeholder(tf.int32, shape=[None, output_size], name='target_y')\n",
        "\n",
        "weights = {\n",
        "    'W1': tf.Variable(tf.truncated_normal([n_input, hidden_size])),\n",
        "    'W2': tf.Variable(tf.truncated_normal([hidden_size, output_size])),\n",
        "}\n",
        "biases = {\n",
        "    'b1': tf.Variable(tf.zeros([hidden_size])),\n",
        "    'b2': tf.Variable(tf.zeros([output_size])),\n",
        "}\n",
        "\n",
        "hidden_layer =  tf.nn.relu(tf.add(tf.matmul(X, weights['W1']), biases['b1']))\n",
        "pred_logits = tf.add(tf.matmul(hidden_layer, weights['W2']), biases['b2'])\n",
        "pred_probs = tf.nn.softmax(pred_logits)\n",
        "\n",
        "cross_entropy = tf.reduce_mean(\n",
        "    tf.nn.softmax_cross_entropy_with_logits(labels=y_, logits=pred_logits))\n",
        "\n",
        "optimizer = tf.train.AdamOptimizer(2e-4).minimize(cross_entropy)\n"
      ],
      "execution_count": 36,
      "outputs": [
        {
          "output_type": "stream",
          "name": "stdout",
          "text": [
            "WARNING:tensorflow:From /usr/local/lib/python3.7/dist-packages/tensorflow/python/util/dispatch.py:1096: softmax_cross_entropy_with_logits (from tensorflow.python.ops.nn_ops) is deprecated and will be removed in a future version.\n",
            "Instructions for updating:\n",
            "\n",
            "Future major versions of TensorFlow will allow gradients to flow\n",
            "into the labels input on backprop by default.\n",
            "\n",
            "See `tf.nn.softmax_cross_entropy_with_logits_v2`.\n",
            "\n"
          ]
        }
      ]
    },
    {
      "cell_type": "markdown",
      "metadata": {
        "id": "pqCqiPkBV80M"
      },
      "source": [
        "3) Prepare the data set.\n",
        "Now we need to re-split the train into train/val, due to supervised training.\n",
        "We will therefore use 80% of out previous training data as our new training, and the remaining 20% as new validation. (train : val : test = (0.75x0.8) : (0.75x0.2) : (0.25x1.0)).\n",
        "Finally we start to train our binary classifier"
      ]
    },
    {
      "cell_type": "code",
      "metadata": {
        "colab": {
          "base_uri": "https://localhost:8080/"
        },
        "id": "_iA-eV--WE0S",
        "outputId": "4b92a2a3-4794-4d1d-dae4-8d3bd9c6650c"
      },
      "source": [
        "n_epochs = 80\n",
        "batch_size = 256\n",
        "\n",
        "# PREPARE DATA\n",
        "VAL_PERC = 0.2\n",
        "all_y_bin = np.zeros((df.shape[0], 2))\n",
        "all_y_bin[range(df.shape[0]), df['Class'].values] = 1\n",
        "\n",
        "train_enc_x = train_encoding[:int(train_encoding.shape[0] * (1-VAL_PERC))]\n",
        "train_enc_y = all_y_bin[:int(train_encoding.shape[0] * (1-VAL_PERC))]\n",
        "\n",
        "val_enc_x = train_encoding[int(train_encoding.shape[0] * (1-VAL_PERC)):]\n",
        "val_enc_y = all_y_bin[int(train_encoding.shape[0] * (1-VAL_PERC)):train_encoding.shape[0]]\n",
        "\n",
        "test_enc_y = all_y_bin[train_encoding.shape[0]:]\n",
        "print(\"Num of data for train, val and test are: \\n{}, \\n{}, \\n{}\".format(train_enc_x.shape[0], val_enc_x.shape[0], \\\n",
        "                                                                        test_encoding.shape[0]))\n",
        "\n",
        "# TRAIN STARTS\n",
        "save_model = os.path.join(data_dir, 'temp_saved_model_FCLayers.ckpt')\n",
        "saver = tf.train.Saver()\n",
        "\n",
        "# Initializing the variables\n",
        "init = tf.global_variables_initializer()\n",
        "\n",
        "with tf.Session() as sess:\n",
        "    now = datetime.now()\n",
        "    sess.run(init)\n",
        "    total_batch = int(train_enc_x.shape[0]/batch_size)\n",
        "    # Training cycle\n",
        "    for epoch in range(n_epochs):\n",
        "        # Loop over all batches\n",
        "        for i in range(total_batch):\n",
        "            batch_idx = np.random.choice(train_enc_x.shape[0], batch_size)\n",
        "            batch_xs = train_enc_x[batch_idx]\n",
        "            batch_ys = train_enc_y[batch_idx]\n",
        "\n",
        "            # Run optimization op (backprop) and cost op (to get loss value)\n",
        "            _, c = sess.run([optimizer, cross_entropy], feed_dict={X: batch_xs, y_: batch_ys})\n",
        "            \n",
        "        # Display logs per epoch step\n",
        "        if epoch % display_step == 0:\n",
        "            val_probs = sess.run(pred_probs, feed_dict={X: val_enc_x})\n",
        "            print(\"Epoch:\", '%04d' % (epoch+1),\n",
        "                  \"cost=\", \"{:.9f}\".format(c), \n",
        "                  \"Val auc=\", \"{:.6f}\".format(auc(val_enc_y[:, 1], val_probs[:, 1])), \n",
        "                  \"Time elapsed=\", \"{}\".format(datetime.now() - now))\n",
        "\n",
        "    print(\"Optimization Finished!\")\n",
        "    \n",
        "    save_path = saver.save(sess, save_model)\n",
        "    print(\"Model saved in file: %s\" % save_path)\n",
        "    "
      ],
      "execution_count": 37,
      "outputs": [
        {
          "output_type": "stream",
          "name": "stdout",
          "text": [
            "Num of data for train, val and test are: \n",
            "170884, \n",
            "42721, \n",
            "71202\n",
            "Epoch: 0001 cost= 2.423602104 Val auc= 0.754582 Time elapsed= 0:00:00.676279\n",
            "Epoch: 0002 cost= 1.477531433 Val auc= 0.816868 Time elapsed= 0:00:01.274145\n",
            "Epoch: 0003 cost= 0.883645296 Val auc= 0.849711 Time elapsed= 0:00:01.858782\n",
            "Epoch: 0004 cost= 0.470491111 Val auc= 0.872589 Time elapsed= 0:00:02.437525\n",
            "Epoch: 0005 cost= 0.268606275 Val auc= 0.887323 Time elapsed= 0:00:03.019144\n",
            "Epoch: 0006 cost= 0.138299495 Val auc= 0.904871 Time elapsed= 0:00:03.609619\n",
            "Epoch: 0007 cost= 0.109936155 Val auc= 0.916263 Time elapsed= 0:00:04.199546\n",
            "Epoch: 0008 cost= 0.086402655 Val auc= 0.920993 Time elapsed= 0:00:04.788480\n",
            "Epoch: 0009 cost= 0.055093028 Val auc= 0.927677 Time elapsed= 0:00:05.364926\n",
            "Epoch: 0010 cost= 0.029247902 Val auc= 0.927265 Time elapsed= 0:00:05.949314\n",
            "Epoch: 0011 cost= 0.014839947 Val auc= 0.924312 Time elapsed= 0:00:06.534973\n",
            "Epoch: 0012 cost= 0.011028342 Val auc= 0.924993 Time elapsed= 0:00:07.134296\n",
            "Epoch: 0013 cost= 0.012813594 Val auc= 0.925539 Time elapsed= 0:00:07.711831\n",
            "Epoch: 0014 cost= 0.006693287 Val auc= 0.925921 Time elapsed= 0:00:08.302985\n",
            "Epoch: 0015 cost= 0.005227935 Val auc= 0.926272 Time elapsed= 0:00:08.886206\n",
            "Epoch: 0016 cost= 0.003443636 Val auc= 0.926453 Time elapsed= 0:00:09.438502\n",
            "Epoch: 0017 cost= 0.001635585 Val auc= 0.926281 Time elapsed= 0:00:10.026273\n",
            "Epoch: 0018 cost= 0.002153302 Val auc= 0.925597 Time elapsed= 0:00:10.610452\n",
            "Epoch: 0019 cost= 0.021531701 Val auc= 0.925217 Time elapsed= 0:00:11.202008\n",
            "Epoch: 0020 cost= 0.000602073 Val auc= 0.925773 Time elapsed= 0:00:11.795288\n",
            "Epoch: 0021 cost= 0.001517010 Val auc= 0.926097 Time elapsed= 0:00:12.388233\n",
            "Epoch: 0022 cost= 0.001942560 Val auc= 0.926357 Time elapsed= 0:00:12.973939\n",
            "Epoch: 0023 cost= 0.000432817 Val auc= 0.926291 Time elapsed= 0:00:13.548378\n",
            "Epoch: 0024 cost= 0.000663852 Val auc= 0.926286 Time elapsed= 0:00:14.123997\n",
            "Epoch: 0025 cost= 0.008178438 Val auc= 0.926776 Time elapsed= 0:00:14.700661\n",
            "Epoch: 0026 cost= 0.000395815 Val auc= 0.927356 Time elapsed= 0:00:15.287558\n",
            "Epoch: 0027 cost= 0.002131282 Val auc= 0.927529 Time elapsed= 0:00:15.869900\n",
            "Epoch: 0028 cost= 0.000514631 Val auc= 0.928102 Time elapsed= 0:00:16.462029\n",
            "Epoch: 0029 cost= 0.007266673 Val auc= 0.928721 Time elapsed= 0:00:17.057314\n",
            "Epoch: 0030 cost= 0.000361089 Val auc= 0.929104 Time elapsed= 0:00:17.661895\n",
            "Epoch: 0031 cost= 0.001645420 Val auc= 0.929628 Time elapsed= 0:00:18.246253\n",
            "Epoch: 0032 cost= 0.006557230 Val auc= 0.930348 Time elapsed= 0:00:18.821884\n",
            "Epoch: 0033 cost= 0.001681057 Val auc= 0.931361 Time elapsed= 0:00:19.392653\n",
            "Epoch: 0034 cost= 0.045301937 Val auc= 0.931618 Time elapsed= 0:00:20.002820\n",
            "Epoch: 0035 cost= 0.000615996 Val auc= 0.931346 Time elapsed= 0:00:20.572856\n",
            "Epoch: 0036 cost= 0.016738499 Val auc= 0.932125 Time elapsed= 0:00:21.157730\n",
            "Epoch: 0037 cost= 0.000598843 Val auc= 0.931953 Time elapsed= 0:00:21.745043\n",
            "Epoch: 0038 cost= 0.001592665 Val auc= 0.931993 Time elapsed= 0:00:22.340159\n",
            "Epoch: 0039 cost= 0.000453073 Val auc= 0.931489 Time elapsed= 0:00:22.924605\n",
            "Epoch: 0040 cost= 0.001180408 Val auc= 0.931207 Time elapsed= 0:00:23.511642\n",
            "Epoch: 0041 cost= 0.001711124 Val auc= 0.931562 Time elapsed= 0:00:24.099295\n",
            "Epoch: 0042 cost= 0.001167146 Val auc= 0.931698 Time elapsed= 0:00:24.680815\n",
            "Epoch: 0043 cost= 0.001141821 Val auc= 0.932201 Time elapsed= 0:00:25.263651\n",
            "Epoch: 0044 cost= 0.001090963 Val auc= 0.932173 Time elapsed= 0:00:25.836141\n",
            "Epoch: 0045 cost= 0.000560497 Val auc= 0.932481 Time elapsed= 0:00:26.425503\n",
            "Epoch: 0046 cost= 0.001447167 Val auc= 0.932411 Time elapsed= 0:00:27.015334\n",
            "Epoch: 0047 cost= 0.000543156 Val auc= 0.932125 Time elapsed= 0:00:27.587724\n",
            "Epoch: 0048 cost= 0.000352904 Val auc= 0.931716 Time elapsed= 0:00:28.169213\n",
            "Epoch: 0049 cost= 0.000299564 Val auc= 0.931416 Time elapsed= 0:00:28.757177\n",
            "Epoch: 0050 cost= 0.008392567 Val auc= 0.931602 Time elapsed= 0:00:29.355487\n",
            "Epoch: 0051 cost= 0.000465866 Val auc= 0.931145 Time elapsed= 0:00:29.947066\n",
            "Epoch: 0052 cost= 0.000372612 Val auc= 0.931801 Time elapsed= 0:00:30.535129\n",
            "Epoch: 0053 cost= 0.001014755 Val auc= 0.932031 Time elapsed= 0:00:31.115977\n",
            "Epoch: 0054 cost= 0.000528132 Val auc= 0.931992 Time elapsed= 0:00:31.696128\n",
            "Epoch: 0055 cost= 0.000241932 Val auc= 0.931938 Time elapsed= 0:00:32.296200\n",
            "Epoch: 0056 cost= 0.007795135 Val auc= 0.931982 Time elapsed= 0:00:32.866621\n",
            "Epoch: 0057 cost= 0.001098384 Val auc= 0.932112 Time elapsed= 0:00:33.464105\n",
            "Epoch: 0058 cost= 0.001188633 Val auc= 0.932380 Time elapsed= 0:00:34.052066\n",
            "Epoch: 0059 cost= 0.000342616 Val auc= 0.932386 Time elapsed= 0:00:34.648942\n",
            "Epoch: 0060 cost= 0.032617632 Val auc= 0.931914 Time elapsed= 0:00:35.222239\n",
            "Epoch: 0061 cost= 0.000405562 Val auc= 0.931858 Time elapsed= 0:00:35.789075\n",
            "Epoch: 0062 cost= 0.006914412 Val auc= 0.931864 Time elapsed= 0:00:36.380814\n",
            "Epoch: 0063 cost= 0.002068078 Val auc= 0.932201 Time elapsed= 0:00:36.958403\n",
            "Epoch: 0064 cost= 0.002305684 Val auc= 0.932276 Time elapsed= 0:00:37.552124\n",
            "Epoch: 0065 cost= 0.006473674 Val auc= 0.932573 Time elapsed= 0:00:38.125469\n",
            "Epoch: 0066 cost= 0.000485684 Val auc= 0.932756 Time elapsed= 0:00:38.690153\n",
            "Epoch: 0067 cost= 0.001655308 Val auc= 0.933022 Time elapsed= 0:00:39.279818\n",
            "Epoch: 0068 cost= 0.000371144 Val auc= 0.932659 Time elapsed= 0:00:39.838472\n",
            "Epoch: 0069 cost= 0.030305978 Val auc= 0.932940 Time elapsed= 0:00:40.416217\n",
            "Epoch: 0070 cost= 0.001378926 Val auc= 0.932490 Time elapsed= 0:00:41.000101\n",
            "Epoch: 0071 cost= 0.000448777 Val auc= 0.933321 Time elapsed= 0:00:41.582358\n",
            "Epoch: 0072 cost= 0.000999934 Val auc= 0.933007 Time elapsed= 0:00:42.167371\n",
            "Epoch: 0073 cost= 0.032090705 Val auc= 0.932729 Time elapsed= 0:00:42.751298\n",
            "Epoch: 0074 cost= 0.000282448 Val auc= 0.932859 Time elapsed= 0:00:43.327523\n",
            "Epoch: 0075 cost= 0.001176438 Val auc= 0.932971 Time elapsed= 0:00:43.901077\n",
            "Epoch: 0076 cost= 0.000287937 Val auc= 0.932797 Time elapsed= 0:00:44.479428\n",
            "Epoch: 0077 cost= 0.002198775 Val auc= 0.933190 Time elapsed= 0:00:45.064932\n",
            "Epoch: 0078 cost= 0.001031723 Val auc= 0.932986 Time elapsed= 0:00:45.657119\n",
            "Epoch: 0079 cost= 0.000313955 Val auc= 0.932903 Time elapsed= 0:00:46.266836\n",
            "Epoch: 0080 cost= 0.000988676 Val auc= 0.933284 Time elapsed= 0:00:46.849643\n",
            "Optimization Finished!\n",
            "Model saved in file: ./temp_saved_model_FCLayers.ckpt\n"
          ]
        }
      ]
    },
    {
      "cell_type": "markdown",
      "metadata": {
        "id": "aIVM6qhyWT6K"
      },
      "source": [
        "# 4) Test the model on the same test data as before - improved on AUC slightly - 0.9669"
      ]
    },
    {
      "cell_type": "code",
      "metadata": {
        "id": "UGxwYJHSWZf3"
      },
      "source": [
        "n_epochs = 200\n",
        "batch_size = 256\n",
        "\n",
        "#n_input = test_encoding.shape[1]\n",
        "n_input = train_x.shape[1]\n",
        "\n",
        "hidden1_size = 8\n",
        "hidden2_size = 4\n",
        "output_size = 2\n",
        "\n",
        "X = tf.placeholder(tf.float32, [None, n_input], name='input_x')\n",
        "y_ = tf.placeholder(tf.int32, shape=[None, output_size], name='target_y')\n",
        "\n",
        "weights = {\n",
        "    'W1': tf.Variable(tf.truncated_normal([n_input, hidden1_size])),\n",
        "    'W2': tf.Variable(tf.truncated_normal([hidden1_size, hidden2_size])),\n",
        "    'W3': tf.Variable(tf.truncated_normal([hidden2_size, output_size])),\n",
        "}\n",
        "biases = {\n",
        "    'b1': tf.Variable(tf.zeros([hidden1_size])),\n",
        "    'b2': tf.Variable(tf.zeros([hidden2_size])),\n",
        "    'b3': tf.Variable(tf.zeros([output_size])),\n",
        "}\n",
        "\n",
        "hidden1_layer =  tf.nn.relu(tf.add(tf.matmul(X, weights['W1']), biases['b1']))\n",
        "hidden2_layer =  tf.nn.relu(tf.add(tf.matmul(hidden1_layer, weights['W2']), biases['b2']))\n",
        "pred_logits = tf.add(tf.matmul(hidden2_layer, weights['W3']), biases['b3'])\n",
        "pred_probs = tf.nn.softmax(pred_logits)\n",
        "\n",
        "cross_entropy = tf.reduce_mean(\n",
        "    tf.nn.softmax_cross_entropy_with_logits(labels=y_, logits=pred_logits))\n",
        "\n",
        "optimizer = tf.train.AdamOptimizer(1e-4).minimize(cross_entropy)\n"
      ],
      "execution_count": 38,
      "outputs": []
    },
    {
      "cell_type": "markdown",
      "metadata": {
        "id": "Av4yJqttWjBV"
      },
      "source": [
        "2) Prepare the data set. Now we need to re-split the train into train/val.\n",
        "## Again, we will use 80% of out previous training data as our new training, and the remaining 20% as new validation. (train : val : test = (0.75x0.8) : (0.75x0.2) : (0.25x1.0))."
      ]
    },
    {
      "cell_type": "code",
      "metadata": {
        "colab": {
          "base_uri": "https://localhost:8080/"
        },
        "id": "xkVbdoOoWqXh",
        "outputId": "ba468d02-ad05-49e8-c0d3-58dd1ff7f954"
      },
      "source": [
        "# PREPARE DATA\n",
        "VAL_PERC = 0.2\n",
        "all_y_bin = np.zeros((df.shape[0], 2))\n",
        "all_y_bin[range(df.shape[0]), df['Class'].values] = 1\n",
        "\n",
        "train_enc_x = train_x[:int(train_x.shape[0] * (1-VAL_PERC))]\n",
        "train_enc_y = all_y_bin[:int(train_x.shape[0] * (1-VAL_PERC))]\n",
        "\n",
        "val_enc_x = train_x[int(train_encoding.shape[0] *  (1-VAL_PERC)):]\n",
        "val_enc_y = all_y_bin[int(train_encoding.shape[0] * (1-VAL_PERC)):train_x.shape[0]]\n",
        "\n",
        "test_enc_y = all_y_bin[train_x.shape[0]:]\n",
        "\n",
        "print(\"Num of data for train, val and test are: \\n{}, \\n{}, \\n{}\".format(train_enc_x.shape[0], val_enc_x.shape[0], \\\n",
        "                                                                        test_encoding.shape[0]))\n",
        "# TRAIN STARTS\n",
        "save_model = os.path.join(data_dir, 'temp_saved_model_FCNNets_raw.ckpt')\n",
        "saver = tf.train.Saver()\n",
        "\n",
        "# Initializing the variables\n",
        "init = tf.global_variables_initializer()\n",
        "\n",
        "with tf.Session() as sess:\n",
        "    now = datetime.now()\n",
        "    sess.run(init)\n",
        "    total_batch = int(train_enc_x.shape[0]/batch_size)\n",
        "    # Training cycle\n",
        "    for epoch in range(n_epochs):\n",
        "        # Loop over all batches\n",
        "        for i in range(total_batch):\n",
        "            batch_idx = np.random.choice(train_enc_x.shape[0], batch_size)\n",
        "            batch_xs = train_enc_x[batch_idx]\n",
        "            batch_ys = train_enc_y[batch_idx]\n",
        "            # Run optimization op (backprop) and cost op (to get loss value)\n",
        "            _, c = sess.run([optimizer, cross_entropy], feed_dict={X: batch_xs, y_: batch_ys})\n",
        "            \n",
        "        # Display logs per epoch step\n",
        "        if epoch % display_step == 0:\n",
        "            val_probs = sess.run(pred_probs, feed_dict={X: val_enc_x})\n",
        "            print(\"Epoch:\", '%04d' % (epoch+1),\n",
        "                  \"cost=\", \"{:.9f}\".format(c), \n",
        "                  \"Val auc=\", \"{:.6f}\".format(auc(val_enc_y[:, 1], val_probs[:, 1])), \n",
        "                  \"Time elapsed=\", \"{}\".format(datetime.now() - now))\n",
        "\n",
        "    print(\"Optimization Finished!\")\n",
        "    \n",
        "    save_path = saver.save(sess, save_model)\n",
        "    print(\"Model saved in file: %s\" % save_path)\n",
        "    "
      ],
      "execution_count": 39,
      "outputs": [
        {
          "output_type": "stream",
          "name": "stdout",
          "text": [
            "Num of data for train, val and test are: \n",
            "170884, \n",
            "42721, \n",
            "71202\n",
            "Epoch: 0001 cost= 0.436351269 Val auc= 0.640974 Time elapsed= 0:00:00.801424\n",
            "Epoch: 0002 cost= 0.320638835 Val auc= 0.599564 Time elapsed= 0:00:01.499458\n",
            "Epoch: 0003 cost= 0.270613849 Val auc= 0.546443 Time elapsed= 0:00:02.177758\n",
            "Epoch: 0004 cost= 0.075970680 Val auc= 0.528417 Time elapsed= 0:00:02.874074\n",
            "Epoch: 0005 cost= 0.010135699 Val auc= 0.528358 Time elapsed= 0:00:03.568296\n",
            "Epoch: 0006 cost= 0.051712800 Val auc= 0.542099 Time elapsed= 0:00:04.258807\n",
            "Epoch: 0007 cost= 0.011418036 Val auc= 0.583113 Time elapsed= 0:00:04.956745\n",
            "Epoch: 0008 cost= 0.083799005 Val auc= 0.608005 Time elapsed= 0:00:05.637411\n",
            "Epoch: 0009 cost= 0.003769101 Val auc= 0.634045 Time elapsed= 0:00:06.349647\n",
            "Epoch: 0010 cost= 0.014052479 Val auc= 0.663681 Time elapsed= 0:00:07.031328\n",
            "Epoch: 0011 cost= 0.020431899 Val auc= 0.686572 Time elapsed= 0:00:07.734584\n",
            "Epoch: 0012 cost= 0.001565575 Val auc= 0.698199 Time elapsed= 0:00:08.422093\n",
            "Epoch: 0013 cost= 0.002093211 Val auc= 0.714595 Time elapsed= 0:00:09.145030\n",
            "Epoch: 0014 cost= 0.013548607 Val auc= 0.725571 Time elapsed= 0:00:09.842210\n",
            "Epoch: 0015 cost= 0.022104010 Val auc= 0.744322 Time elapsed= 0:00:10.522598\n",
            "Epoch: 0016 cost= 0.000661325 Val auc= 0.753441 Time elapsed= 0:00:11.227108\n",
            "Epoch: 0017 cost= 0.002324093 Val auc= 0.766673 Time elapsed= 0:00:11.919798\n",
            "Epoch: 0018 cost= 0.002129175 Val auc= 0.772335 Time elapsed= 0:00:12.608298\n",
            "Epoch: 0019 cost= 0.018556660 Val auc= 0.782125 Time elapsed= 0:00:13.312251\n",
            "Epoch: 0020 cost= 0.001325160 Val auc= 0.793240 Time elapsed= 0:00:14.011432\n",
            "Epoch: 0021 cost= 0.001273061 Val auc= 0.799394 Time elapsed= 0:00:14.695498\n",
            "Epoch: 0022 cost= 0.001268528 Val auc= 0.804169 Time elapsed= 0:00:15.382496\n",
            "Epoch: 0023 cost= 0.000800933 Val auc= 0.810725 Time elapsed= 0:00:16.086980\n",
            "Epoch: 0024 cost= 0.001262801 Val auc= 0.815077 Time elapsed= 0:00:16.765653\n",
            "Epoch: 0025 cost= 0.010780582 Val auc= 0.821267 Time elapsed= 0:00:17.458070\n",
            "Epoch: 0026 cost= 0.000804283 Val auc= 0.825529 Time elapsed= 0:00:18.182675\n",
            "Epoch: 0027 cost= 0.002510326 Val auc= 0.829658 Time elapsed= 0:00:18.878402\n",
            "Epoch: 0028 cost= 0.001714283 Val auc= 0.835957 Time elapsed= 0:00:19.568392\n",
            "Epoch: 0029 cost= 0.000507079 Val auc= 0.837780 Time elapsed= 0:00:20.274433\n",
            "Epoch: 0030 cost= 0.026594039 Val auc= 0.841642 Time elapsed= 0:00:20.953696\n",
            "Epoch: 0031 cost= 0.000689768 Val auc= 0.840849 Time elapsed= 0:00:21.659916\n",
            "Epoch: 0032 cost= 0.000779250 Val auc= 0.846348 Time elapsed= 0:00:22.350035\n",
            "Epoch: 0033 cost= 0.009432090 Val auc= 0.848425 Time elapsed= 0:00:23.044523\n",
            "Epoch: 0034 cost= 0.006803982 Val auc= 0.853068 Time elapsed= 0:00:23.744402\n",
            "Epoch: 0035 cost= 0.000711150 Val auc= 0.855166 Time elapsed= 0:00:24.433201\n",
            "Epoch: 0036 cost= 0.000969368 Val auc= 0.857689 Time elapsed= 0:00:25.126837\n",
            "Epoch: 0037 cost= 0.000955482 Val auc= 0.858069 Time elapsed= 0:00:25.806427\n",
            "Epoch: 0038 cost= 0.000814331 Val auc= 0.857369 Time elapsed= 0:00:26.505903\n",
            "Epoch: 0039 cost= 0.001557901 Val auc= 0.860968 Time elapsed= 0:00:27.194140\n",
            "Epoch: 0040 cost= 0.001264928 Val auc= 0.861750 Time elapsed= 0:00:27.878516\n",
            "Epoch: 0041 cost= 0.000841762 Val auc= 0.863194 Time elapsed= 0:00:28.606972\n",
            "Epoch: 0042 cost= 0.000925341 Val auc= 0.864769 Time elapsed= 0:00:29.302274\n",
            "Epoch: 0043 cost= 0.022773951 Val auc= 0.864890 Time elapsed= 0:00:29.990834\n",
            "Epoch: 0044 cost= 0.000627026 Val auc= 0.865947 Time elapsed= 0:00:30.689613\n",
            "Epoch: 0045 cost= 0.000596886 Val auc= 0.866571 Time elapsed= 0:00:31.383445\n",
            "Epoch: 0046 cost= 0.000602456 Val auc= 0.866077 Time elapsed= 0:00:32.082029\n",
            "Epoch: 0047 cost= 0.001138725 Val auc= 0.868472 Time elapsed= 0:00:32.761595\n",
            "Epoch: 0048 cost= 0.002080135 Val auc= 0.868347 Time elapsed= 0:00:33.455135\n",
            "Epoch: 0049 cost= 0.000647731 Val auc= 0.869997 Time elapsed= 0:00:34.148121\n",
            "Epoch: 0050 cost= 0.000373258 Val auc= 0.870464 Time elapsed= 0:00:34.838101\n",
            "Epoch: 0051 cost= 0.012006555 Val auc= 0.871005 Time elapsed= 0:00:35.528295\n",
            "Epoch: 0052 cost= 0.000412016 Val auc= 0.870540 Time elapsed= 0:00:36.217976\n",
            "Epoch: 0053 cost= 0.000636804 Val auc= 0.870892 Time elapsed= 0:00:36.901903\n",
            "Epoch: 0054 cost= 0.003100896 Val auc= 0.871387 Time elapsed= 0:00:37.602422\n",
            "Epoch: 0055 cost= 0.000554784 Val auc= 0.872290 Time elapsed= 0:00:38.296284\n",
            "Epoch: 0056 cost= 0.000423924 Val auc= 0.873012 Time elapsed= 0:00:38.983514\n",
            "Epoch: 0057 cost= 0.000796193 Val auc= 0.872480 Time elapsed= 0:00:39.689033\n",
            "Epoch: 0058 cost= 0.008487768 Val auc= 0.873255 Time elapsed= 0:00:40.388145\n",
            "Epoch: 0059 cost= 0.000435096 Val auc= 0.874049 Time elapsed= 0:00:41.080088\n",
            "Epoch: 0060 cost= 0.000370047 Val auc= 0.873864 Time elapsed= 0:00:41.764396\n",
            "Epoch: 0061 cost= 0.000992749 Val auc= 0.873975 Time elapsed= 0:00:42.454449\n",
            "Epoch: 0062 cost= 0.008475838 Val auc= 0.873811 Time elapsed= 0:00:43.129145\n",
            "Epoch: 0063 cost= 0.001794542 Val auc= 0.873741 Time elapsed= 0:00:43.813202\n",
            "Epoch: 0064 cost= 0.000357572 Val auc= 0.874301 Time elapsed= 0:00:44.506876\n",
            "Epoch: 0065 cost= 0.035107691 Val auc= 0.874667 Time elapsed= 0:00:45.191089\n",
            "Epoch: 0066 cost= 0.000276370 Val auc= 0.874823 Time elapsed= 0:00:45.881370\n",
            "Epoch: 0067 cost= 0.002152721 Val auc= 0.875243 Time elapsed= 0:00:46.566034\n",
            "Epoch: 0068 cost= 0.218728125 Val auc= 0.875282 Time elapsed= 0:00:47.254516\n",
            "Epoch: 0069 cost= 0.000356108 Val auc= 0.875601 Time elapsed= 0:00:47.935550\n",
            "Epoch: 0070 cost= 0.000415118 Val auc= 0.876470 Time elapsed= 0:00:48.628089\n",
            "Epoch: 0071 cost= 0.001297065 Val auc= 0.876438 Time elapsed= 0:00:49.317531\n",
            "Epoch: 0072 cost= 0.011188971 Val auc= 0.876668 Time elapsed= 0:00:50.011562\n",
            "Epoch: 0073 cost= 0.004110288 Val auc= 0.876698 Time elapsed= 0:00:50.708182\n",
            "Epoch: 0074 cost= 0.009207094 Val auc= 0.877323 Time elapsed= 0:00:51.411585\n",
            "Epoch: 0075 cost= 0.000461819 Val auc= 0.877894 Time elapsed= 0:00:52.100503\n",
            "Epoch: 0076 cost= 0.000288583 Val auc= 0.878043 Time elapsed= 0:00:52.804909\n",
            "Epoch: 0077 cost= 0.000499949 Val auc= 0.878618 Time elapsed= 0:00:53.505697\n",
            "Epoch: 0078 cost= 0.000692046 Val auc= 0.878588 Time elapsed= 0:00:54.196121\n",
            "Epoch: 0079 cost= 0.003122234 Val auc= 0.879087 Time elapsed= 0:00:54.893643\n",
            "Epoch: 0080 cost= 0.000288796 Val auc= 0.879661 Time elapsed= 0:00:55.585109\n",
            "Epoch: 0081 cost= 0.000488978 Val auc= 0.879979 Time elapsed= 0:00:56.273962\n",
            "Epoch: 0082 cost= 0.000896178 Val auc= 0.880457 Time elapsed= 0:00:56.981672\n",
            "Epoch: 0083 cost= 0.005375658 Val auc= 0.880246 Time elapsed= 0:00:57.677203\n",
            "Epoch: 0084 cost= 0.000635635 Val auc= 0.880324 Time elapsed= 0:00:58.366410\n",
            "Epoch: 0085 cost= 0.000731668 Val auc= 0.880640 Time elapsed= 0:00:59.054928\n",
            "Epoch: 0086 cost= 0.000911777 Val auc= 0.881261 Time elapsed= 0:00:59.736467\n",
            "Epoch: 0087 cost= 0.000343365 Val auc= 0.881296 Time elapsed= 0:01:00.439399\n",
            "Epoch: 0088 cost= 0.000276192 Val auc= 0.881669 Time elapsed= 0:01:01.126419\n",
            "Epoch: 0089 cost= 0.000513054 Val auc= 0.881688 Time elapsed= 0:01:01.824048\n",
            "Epoch: 0090 cost= 0.000452610 Val auc= 0.882339 Time elapsed= 0:01:02.505625\n",
            "Epoch: 0091 cost= 0.006248912 Val auc= 0.882381 Time elapsed= 0:01:03.202935\n",
            "Epoch: 0092 cost= 0.000542893 Val auc= 0.882591 Time elapsed= 0:01:03.885352\n",
            "Epoch: 0093 cost= 0.000509026 Val auc= 0.883408 Time elapsed= 0:01:04.569925\n",
            "Epoch: 0094 cost= 0.000466852 Val auc= 0.883433 Time elapsed= 0:01:05.250956\n",
            "Epoch: 0095 cost= 0.000731649 Val auc= 0.883574 Time elapsed= 0:01:05.934684\n",
            "Epoch: 0096 cost= 0.006824806 Val auc= 0.883900 Time elapsed= 0:01:06.642146\n",
            "Epoch: 0097 cost= 0.000420146 Val auc= 0.884100 Time elapsed= 0:01:07.323811\n",
            "Epoch: 0098 cost= 0.000616604 Val auc= 0.884425 Time elapsed= 0:01:08.006555\n",
            "Epoch: 0099 cost= 0.007801819 Val auc= 0.884417 Time elapsed= 0:01:08.695024\n",
            "Epoch: 0100 cost= 0.000292327 Val auc= 0.884429 Time elapsed= 0:01:09.385738\n",
            "Epoch: 0101 cost= 0.006457717 Val auc= 0.884521 Time elapsed= 0:01:10.066588\n",
            "Epoch: 0102 cost= 0.030280085 Val auc= 0.884717 Time elapsed= 0:01:10.763651\n",
            "Epoch: 0103 cost= 0.005769620 Val auc= 0.884584 Time elapsed= 0:01:11.436998\n",
            "Epoch: 0104 cost= 0.000493417 Val auc= 0.885031 Time elapsed= 0:01:12.124697\n",
            "Epoch: 0105 cost= 0.041060057 Val auc= 0.885550 Time elapsed= 0:01:12.820886\n",
            "Epoch: 0106 cost= 0.000660276 Val auc= 0.886323 Time elapsed= 0:01:13.502164\n",
            "Epoch: 0107 cost= 0.000465496 Val auc= 0.886610 Time elapsed= 0:01:14.178042\n",
            "Epoch: 0108 cost= 0.002724204 Val auc= 0.887030 Time elapsed= 0:01:14.861391\n",
            "Epoch: 0109 cost= 0.000349711 Val auc= 0.887247 Time elapsed= 0:01:15.543698\n",
            "Epoch: 0110 cost= 0.000477995 Val auc= 0.887195 Time elapsed= 0:01:16.226155\n",
            "Epoch: 0111 cost= 0.000516393 Val auc= 0.887354 Time elapsed= 0:01:16.901316\n",
            "Epoch: 0112 cost= 0.002546850 Val auc= 0.887786 Time elapsed= 0:01:17.592817\n",
            "Epoch: 0113 cost= 0.011293097 Val auc= 0.888284 Time elapsed= 0:01:18.286524\n",
            "Epoch: 0114 cost= 0.000532021 Val auc= 0.888557 Time elapsed= 0:01:18.975206\n",
            "Epoch: 0115 cost= 0.000190341 Val auc= 0.888582 Time elapsed= 0:01:19.654990\n",
            "Epoch: 0116 cost= 0.000482210 Val auc= 0.888914 Time elapsed= 0:01:20.341229\n",
            "Epoch: 0117 cost= 0.000406359 Val auc= 0.889700 Time elapsed= 0:01:21.064151\n",
            "Epoch: 0118 cost= 0.000434617 Val auc= 0.890928 Time elapsed= 0:01:21.750370\n",
            "Epoch: 0119 cost= 0.000326162 Val auc= 0.891592 Time elapsed= 0:01:22.444046\n",
            "Epoch: 0120 cost= 0.000435460 Val auc= 0.891935 Time elapsed= 0:01:23.148178\n",
            "Epoch: 0121 cost= 0.000434785 Val auc= 0.892474 Time elapsed= 0:01:23.858728\n",
            "Epoch: 0122 cost= 0.000397075 Val auc= 0.892165 Time elapsed= 0:01:24.555472\n",
            "Epoch: 0123 cost= 0.000477909 Val auc= 0.892626 Time elapsed= 0:01:25.262392\n",
            "Epoch: 0124 cost= 0.000490507 Val auc= 0.892461 Time elapsed= 0:01:25.946077\n",
            "Epoch: 0125 cost= 0.000448204 Val auc= 0.893106 Time elapsed= 0:01:26.648351\n",
            "Epoch: 0126 cost= 0.000244987 Val auc= 0.892853 Time elapsed= 0:01:27.343185\n",
            "Epoch: 0127 cost= 0.022857022 Val auc= 0.893164 Time elapsed= 0:01:28.028612\n",
            "Epoch: 0128 cost= 0.001925438 Val auc= 0.893340 Time elapsed= 0:01:28.735656\n",
            "Epoch: 0129 cost= 0.002191836 Val auc= 0.893384 Time elapsed= 0:01:29.440409\n",
            "Epoch: 0130 cost= 0.004995844 Val auc= 0.893827 Time elapsed= 0:01:30.124040\n",
            "Epoch: 0131 cost= 0.000832248 Val auc= 0.893701 Time elapsed= 0:01:30.813312\n",
            "Epoch: 0132 cost= 0.050747830 Val auc= 0.893615 Time elapsed= 0:01:31.530714\n",
            "Epoch: 0133 cost= 0.000436518 Val auc= 0.893888 Time elapsed= 0:01:32.237733\n",
            "Epoch: 0134 cost= 0.000684345 Val auc= 0.894202 Time elapsed= 0:01:32.932322\n",
            "Epoch: 0135 cost= 0.000729691 Val auc= 0.894925 Time elapsed= 0:01:33.622832\n",
            "Epoch: 0136 cost= 0.000440905 Val auc= 0.895281 Time elapsed= 0:01:34.316310\n",
            "Epoch: 0137 cost= 0.000492008 Val auc= 0.894858 Time elapsed= 0:01:35.020797\n",
            "Epoch: 0138 cost= 0.001513368 Val auc= 0.895104 Time elapsed= 0:01:35.703065\n",
            "Epoch: 0139 cost= 0.000433885 Val auc= 0.895090 Time elapsed= 0:01:36.397199\n",
            "Epoch: 0140 cost= 0.000493553 Val auc= 0.895702 Time elapsed= 0:01:37.094137\n",
            "Epoch: 0141 cost= 0.000198681 Val auc= 0.895489 Time elapsed= 0:01:37.770935\n",
            "Epoch: 0142 cost= 0.000231847 Val auc= 0.895183 Time elapsed= 0:01:38.464447\n",
            "Epoch: 0143 cost= 0.003720312 Val auc= 0.895553 Time elapsed= 0:01:39.152746\n",
            "Epoch: 0144 cost= 0.000823370 Val auc= 0.895903 Time elapsed= 0:01:39.833941\n",
            "Epoch: 0145 cost= 0.000248339 Val auc= 0.895875 Time elapsed= 0:01:40.530239\n",
            "Epoch: 0146 cost= 0.012808784 Val auc= 0.896096 Time elapsed= 0:01:41.234158\n",
            "Epoch: 0147 cost= 0.000432143 Val auc= 0.896213 Time elapsed= 0:01:41.921301\n",
            "Epoch: 0148 cost= 0.003268625 Val auc= 0.896418 Time elapsed= 0:01:42.622195\n",
            "Epoch: 0149 cost= 0.000503881 Val auc= 0.897157 Time elapsed= 0:01:43.321489\n",
            "Epoch: 0150 cost= 0.000356500 Val auc= 0.897566 Time elapsed= 0:01:44.011954\n",
            "Epoch: 0151 cost= 0.002646328 Val auc= 0.898473 Time elapsed= 0:01:44.710668\n",
            "Epoch: 0152 cost= 0.000257506 Val auc= 0.899096 Time elapsed= 0:01:45.430684\n",
            "Epoch: 0153 cost= 0.000625932 Val auc= 0.898892 Time elapsed= 0:01:46.117147\n",
            "Epoch: 0154 cost= 0.000266311 Val auc= 0.899631 Time elapsed= 0:01:46.812207\n",
            "Epoch: 0155 cost= 0.000389901 Val auc= 0.900129 Time elapsed= 0:01:47.508607\n",
            "Epoch: 0156 cost= 0.000413785 Val auc= 0.900878 Time elapsed= 0:01:48.204684\n",
            "Epoch: 0157 cost= 0.003157723 Val auc= 0.900519 Time elapsed= 0:01:48.900424\n",
            "Epoch: 0158 cost= 0.000422920 Val auc= 0.900809 Time elapsed= 0:01:49.606207\n",
            "Epoch: 0159 cost= 0.006153064 Val auc= 0.900804 Time elapsed= 0:01:50.312487\n",
            "Epoch: 0160 cost= 0.012164560 Val auc= 0.900544 Time elapsed= 0:01:50.999776\n",
            "Epoch: 0161 cost= 0.000664146 Val auc= 0.901161 Time elapsed= 0:01:51.699927\n",
            "Epoch: 0162 cost= 0.000264962 Val auc= 0.901125 Time elapsed= 0:01:52.399361\n",
            "Epoch: 0163 cost= 0.001095367 Val auc= 0.901102 Time elapsed= 0:01:53.086625\n",
            "Epoch: 0164 cost= 0.000338949 Val auc= 0.900965 Time elapsed= 0:01:53.809142\n",
            "Epoch: 0165 cost= 0.001424350 Val auc= 0.900622 Time elapsed= 0:01:54.496668\n",
            "Epoch: 0166 cost= 0.000323713 Val auc= 0.901013 Time elapsed= 0:01:55.169115\n",
            "Epoch: 0167 cost= 0.004232836 Val auc= 0.901360 Time elapsed= 0:01:55.862041\n",
            "Epoch: 0168 cost= 0.000593840 Val auc= 0.901760 Time elapsed= 0:01:56.549868\n",
            "Epoch: 0169 cost= 0.010444349 Val auc= 0.901888 Time elapsed= 0:01:57.227938\n",
            "Epoch: 0170 cost= 0.000189091 Val auc= 0.901880 Time elapsed= 0:01:57.935776\n",
            "Epoch: 0171 cost= 0.039996319 Val auc= 0.902206 Time elapsed= 0:01:58.620022\n",
            "Epoch: 0172 cost= 0.000534802 Val auc= 0.902579 Time elapsed= 0:01:59.321364\n",
            "Epoch: 0173 cost= 0.000342232 Val auc= 0.902934 Time elapsed= 0:02:00.003392\n",
            "Epoch: 0174 cost= 0.000646913 Val auc= 0.902787 Time elapsed= 0:02:00.703953\n",
            "Epoch: 0175 cost= 0.000479450 Val auc= 0.902831 Time elapsed= 0:02:01.404842\n",
            "Epoch: 0176 cost= 0.000341183 Val auc= 0.903167 Time elapsed= 0:02:02.101852\n",
            "Epoch: 0177 cost= 0.000393231 Val auc= 0.903888 Time elapsed= 0:02:02.793575\n",
            "Epoch: 0178 cost= 0.000173753 Val auc= 0.903892 Time elapsed= 0:02:03.505411\n",
            "Epoch: 0179 cost= 0.000349580 Val auc= 0.903714 Time elapsed= 0:02:04.201308\n",
            "Epoch: 0180 cost= 0.000702609 Val auc= 0.904344 Time elapsed= 0:02:04.905542\n",
            "Epoch: 0181 cost= 0.000191047 Val auc= 0.904322 Time elapsed= 0:02:05.599887\n",
            "Epoch: 0182 cost= 0.000892614 Val auc= 0.905095 Time elapsed= 0:02:06.274186\n",
            "Epoch: 0183 cost= 0.001306872 Val auc= 0.904906 Time elapsed= 0:02:06.953905\n",
            "Epoch: 0184 cost= 0.002215615 Val auc= 0.904881 Time elapsed= 0:02:07.647945\n",
            "Epoch: 0185 cost= 0.000811417 Val auc= 0.904998 Time elapsed= 0:02:08.332757\n",
            "Epoch: 0186 cost= 0.001201170 Val auc= 0.905484 Time elapsed= 0:02:09.030342\n",
            "Epoch: 0187 cost= 0.000603276 Val auc= 0.905986 Time elapsed= 0:02:09.722420\n",
            "Epoch: 0188 cost= 0.000272115 Val auc= 0.906306 Time elapsed= 0:02:10.409952\n",
            "Epoch: 0189 cost= 0.000183390 Val auc= 0.906105 Time elapsed= 0:02:11.093848\n",
            "Epoch: 0190 cost= 0.000174612 Val auc= 0.906319 Time elapsed= 0:02:11.784218\n",
            "Epoch: 0191 cost= 0.000352553 Val auc= 0.906504 Time elapsed= 0:02:12.474899\n",
            "Epoch: 0192 cost= 0.000255380 Val auc= 0.906720 Time elapsed= 0:02:13.170302\n",
            "Epoch: 0193 cost= 0.000278525 Val auc= 0.906661 Time elapsed= 0:02:13.885835\n",
            "Epoch: 0194 cost= 0.000382978 Val auc= 0.906797 Time elapsed= 0:02:14.583099\n",
            "Epoch: 0195 cost= 0.000392936 Val auc= 0.906910 Time elapsed= 0:02:15.268096\n",
            "Epoch: 0196 cost= 0.000286729 Val auc= 0.907536 Time elapsed= 0:02:15.956094\n",
            "Epoch: 0197 cost= 0.000271294 Val auc= 0.908091 Time elapsed= 0:02:16.643718\n",
            "Epoch: 0198 cost= 0.003749552 Val auc= 0.908524 Time elapsed= 0:02:17.339599\n",
            "Epoch: 0199 cost= 0.000670729 Val auc= 0.908579 Time elapsed= 0:02:18.028396\n",
            "Epoch: 0200 cost= 0.000628657 Val auc= 0.908386 Time elapsed= 0:02:18.704528\n",
            "Optimization Finished!\n",
            "Model saved in file: ./temp_saved_model_FCNNets_raw.ckpt\n"
          ]
        }
      ]
    },
    {
      "cell_type": "markdown",
      "metadata": {
        "id": "lMhjNOhGXZ40"
      },
      "source": [
        "## 3) Predict on test data"
      ]
    },
    {
      "cell_type": "code",
      "metadata": {
        "colab": {
          "base_uri": "https://localhost:8080/"
        },
        "id": "tt-QGjEuXgRa",
        "outputId": "a437cf3f-ff76-47d0-adc0-244d5f1745c5"
      },
      "source": [
        "save_model = os.path.join(data_dir, 'temp_saved_model_FCNNets_raw.ckpt')\n",
        "saver = tf.train.Saver()\n",
        "# Initializing the variables\n",
        "init = tf.global_variables_initializer()\n",
        "\n",
        "with tf.Session() as sess:\n",
        "    now = datetime.now()\n",
        "    \n",
        "    saver.restore(sess, save_model)\n",
        "    \n",
        "    test_probs = sess.run(pred_probs, feed_dict={X: test_x})\n",
        "    \n",
        "    print(\"Test auc score: {}\".format(auc(test_enc_y[:, 1], test_probs[:, 1])))"
      ],
      "execution_count": 40,
      "outputs": [
        {
          "output_type": "stream",
          "name": "stdout",
          "text": [
            "INFO:tensorflow:Restoring parameters from ./temp_saved_model_FCNNets_raw.ckpt\n",
            "Test auc score: 0.9526415617119419\n"
          ]
        }
      ]
    }
  ]
}